{
 "cells": [
  {
   "cell_type": "code",
   "execution_count": 1,
   "metadata": {},
   "outputs": [],
   "source": [
    "import numpy as np \n",
    "import matplotlib.pyplot as plt \n",
    "import pandas as pd \n",
    "import os \n",
    "from loaddata import MultiModalLoader\n",
    "import torch\n",
    "from torch.utils.data import Dataset, DataLoader\n",
    "from torch import nn\n",
    "from model import MultistainModel\n",
    "import torch.optim as optim\n",
    "from tqdm import tqdm\n",
    "from torchmetrics import AUROC\n",
    "from torch.utils.tensorboard import SummaryWriter\n",
    "\n",
    "\n"
   ]
  },
  {
   "cell_type": "code",
   "execution_count": 2,
   "metadata": {},
   "outputs": [],
   "source": [
    "f = \"data/datatable.csv\"\n",
    "train_DS = MultiModalLoader(f, \"TRAIN\",n_mods=3)\n",
    "test_DS = MultiModalLoader(f, \"TEST\",n_mods=3)\n",
    "valid_DS = MultiModalLoader(f, \"VALIDATION\",n_mods=3)"
   ]
  },
  {
   "cell_type": "code",
   "execution_count": 3,
   "metadata": {},
   "outputs": [],
   "source": [
    "train_loader = DataLoader(train_DS, batch_size=32, shuffle=True)\n",
    "valid_loader = DataLoader(valid_DS, batch_size=32, shuffle=False)\n",
    "test_loader = DataLoader(test_DS, batch_size=32, shuffle=False)"
   ]
  },
  {
   "cell_type": "code",
   "execution_count": 4,
   "metadata": {},
   "outputs": [],
   "source": [
    "model = MultistainModel(n_classes = 2)\n",
    "#model = torch.compile(premodel)  # TODO not working yet \n",
    "criterion = nn.CrossEntropyLoss()  \n",
    "optimizer = optim.SGD(model.parameters(), lr=0.001, momentum=0.9)  # TODO optimal optimizer for this task?\n",
    "scheduler = optim.lr_scheduler.ExponentialLR(optimizer, gamma = 0.9)  # TODO optimal scheduler? \n",
    "auroc = AUROC(task=\"multilabel\", num_labels=2)  # TODO do for categorical\n",
    "activate = nn.Softmax(dim=1)  # TODO for catefgorical needs to be a softmax\n",
    "\n"
   ]
  },
  {
   "cell_type": "code",
   "execution_count": 5,
   "metadata": {},
   "outputs": [
    {
     "name": "stderr",
     "output_type": "stream",
     "text": [
      "Epoch 1|Train:   8%|▊         | 1/13 [01:11<14:14, 71.23s/batch, train_AUROC=0.533, train_loss=0.69] \n",
      "Epoch 1|Valid:  50%|█████     | 1/2 [00:28<00:28, 28.28s/batch, valid_AUROC=0.486, valid_loss=0.79]\n",
      "Epoch 2|Train:   8%|▊         | 1/13 [01:06<13:23, 66.99s/batch, train_AUROC=0.472, train_loss=0.949]\n",
      "Epoch 2|Valid:  50%|█████     | 1/2 [00:22<00:22, 22.30s/batch, valid_AUROC=0.271, valid_loss=1.52]\n"
     ]
    }
   ],
   "source": [
    "n_epochs = 2\n",
    "for epoch in range(n_epochs):\n",
    "    model.train()\n",
    "    train_loss = []\n",
    "    train_auroc = []\n",
    "    with tqdm(train_loader, unit=\"batch\") as tepoch:\n",
    "        for idx,(x, y) in enumerate(tepoch):\n",
    "            tepoch.set_description(f\"Epoch {epoch+1}|Train\")\n",
    "\n",
    "            pred = model(x)\n",
    "            loss = criterion(pred,y.float())\n",
    "            loss.backward()\n",
    "            optimizer.step()\n",
    "            \n",
    "            tr_auroc = auroc(activate(pred), y.int())\n",
    "\n",
    "            train_loss.append(loss.item())\n",
    "            train_auroc.append(tr_auroc)\n",
    "            tepoch.set_postfix(train_loss=loss.item(), train_AUROC=tr_auroc.item())\n",
    "            if idx>0:  # get rid of before running \n",
    "                break\n",
    "    mean_train_loss = np.mean(train_loss)  # TODO save in tensorboard\n",
    "    mean_train_auroc = np.mean(train_auroc)  # TODO save in tensorboard\n",
    "\n",
    "    scheduler.step()\n",
    "    valid_loss = []\n",
    "    valid_auroc = []\n",
    "    model.eval()\n",
    "    with tqdm(valid_loader, unit=\"batch\") as vepoch:\n",
    "        for idx,(x, y) in enumerate(vepoch):\n",
    "            vepoch.set_description(f\"Epoch {epoch+1}|Valid\")\n",
    "            out = model(x)\n",
    "            \n",
    "            loss= criterion(out,y.float())\n",
    "            val_auroc  = auroc(activate(out), y.int())\n",
    "            \n",
    "            valid_loss.append(loss.item())\n",
    "            valid_auroc.append(val_auroc)\n",
    "            vepoch.set_postfix(valid_loss=loss.item(), valid_AUROC=val_auroc.item())\n",
    "            if idx>0: # TODO get rid of before running \n",
    "                break\n",
    "\n",
    "    mean_valid_loss = np.mean(valid_loss)  # TODO save in tensorboard\n",
    "    mean_valid_auroc = np.mean(valid_auroc)  # TODO save in tensorboard\n",
    "\n",
    "\n",
    "#safe model!!! and stuff"
   ]
  },
  {
   "attachments": {},
   "cell_type": "markdown",
   "metadata": {},
   "source": [
    "## Evaluate"
   ]
  },
  {
   "cell_type": "code",
   "execution_count": null,
   "metadata": {},
   "outputs": [],
   "source": []
  },
  {
   "cell_type": "code",
   "execution_count": 13,
   "metadata": {},
   "outputs": [
    {
     "name": "stderr",
     "output_type": "stream",
     "text": [
      "Test:  25%|██▌       | 1/4 [00:34<01:43, 34.60s/batch, test_AUROC=0.271, test_loss=1.77] \n"
     ]
    }
   ],
   "source": [
    "test_loss = []\n",
    "test_aurocs = []\n",
    "model.eval()\n",
    "results = []\n",
    "with tqdm(test_loader, unit=\"batch\") as testepoch:\n",
    "    for idx,(x, y) in enumerate(testepoch):\n",
    "        testepoch.set_description(f\"Test\")\n",
    "        out = model(x)\n",
    "        \n",
    "        loss = criterion(out,y.float())\n",
    "        test_auroc = auroc(activate(out), y.int())\n",
    "\n",
    "        results.append( valid_DS.__reverse_transformation__(out) )\n",
    "        results.append([idx,y,out])\n",
    "        test_loss.append(loss.item())\n",
    "        test_aurocs.append(test_auroc.item())\n",
    "        testepoch.set_postfix(test_loss=loss.item(), test_AUROC=val_auroc.item())\n",
    "\n",
    "\n",
    "        if idx>0: # TODO get rid of before running \n",
    "            break\n",
    "\n",
    "    mean_test_loss = np.mean(test_loss)  # TODO save in tensorboard\n",
    "    mean_test_auroc = np.mean(test_aurocs)  # TODO save in tensorboard\n",
    "    results_df = pd.DataFrame(results,columns=[\"idx\",\"label\",\"pred\"])"
   ]
  },
  {
   "cell_type": "code",
   "execution_count": 14,
   "metadata": {},
   "outputs": [],
   "source": [
    "results_folder = \"results\"\n",
    "os.path.exists(results_folder)\n",
    "if not os.path.exists(results_folder):\n",
    "    os.mkdir(results_folder)\n",
    "f = results_df.to_csv((results_folder+\"/result_table.csv\"))\n",
    "#  TODO settings store as file"
   ]
  },
  {
   "cell_type": "code",
   "execution_count": 17,
   "metadata": {},
   "outputs": [
    {
     "data": {
      "text/plain": [
       "[[0,\n",
       "  tensor([[0., 1.],\n",
       "          [0., 1.],\n",
       "          [0., 1.],\n",
       "          [0., 1.],\n",
       "          [0., 1.],\n",
       "          [0., 1.],\n",
       "          [0., 1.],\n",
       "          [1., 0.],\n",
       "          [0., 1.],\n",
       "          [1., 0.],\n",
       "          [1., 0.],\n",
       "          [0., 1.],\n",
       "          [0., 1.],\n",
       "          [0., 1.],\n",
       "          [0., 1.],\n",
       "          [0., 1.],\n",
       "          [0., 1.],\n",
       "          [0., 1.],\n",
       "          [1., 0.],\n",
       "          [0., 1.],\n",
       "          [0., 1.],\n",
       "          [0., 1.],\n",
       "          [1., 0.],\n",
       "          [0., 1.],\n",
       "          [1., 0.],\n",
       "          [0., 1.],\n",
       "          [0., 1.],\n",
       "          [0., 1.],\n",
       "          [0., 1.],\n",
       "          [1., 0.],\n",
       "          [0., 1.],\n",
       "          [1., 0.]], dtype=torch.float64),\n",
       "  tensor([[-1.2159,  1.8575],\n",
       "          [-1.1679,  1.8080],\n",
       "          [-1.1987,  1.8268],\n",
       "          [-1.2114,  1.8228],\n",
       "          [-1.1828,  1.8585],\n",
       "          [-1.2068,  1.8495],\n",
       "          [-1.1743,  1.8384],\n",
       "          [-1.1939,  1.8543],\n",
       "          [-1.2056,  1.8209],\n",
       "          [-1.1994,  1.8294],\n",
       "          [-1.1568,  1.8382],\n",
       "          [-1.2383,  1.8757],\n",
       "          [-1.1898,  1.8598],\n",
       "          [-1.1511,  1.8340],\n",
       "          [-1.1997,  1.8247],\n",
       "          [-1.2210,  1.8423],\n",
       "          [-1.2024,  1.8259],\n",
       "          [-1.1891,  1.8153],\n",
       "          [-1.2338,  1.8695],\n",
       "          [-1.2219,  1.8391],\n",
       "          [-1.2001,  1.8237],\n",
       "          [-1.1935,  1.8118],\n",
       "          [-1.1982,  1.8449],\n",
       "          [-1.2196,  1.8820],\n",
       "          [-1.2034,  1.8527],\n",
       "          [-1.1772,  1.8430],\n",
       "          [-1.2288,  1.8871],\n",
       "          [-1.2406,  1.8544],\n",
       "          [-1.1834,  1.8175],\n",
       "          [-1.2276,  1.8326],\n",
       "          [-1.1790,  1.8585],\n",
       "          [-1.2057,  1.8720]], grad_fn=<ViewBackward0>)],\n",
       " [1,\n",
       "  tensor([[1., 0.],\n",
       "          [0., 1.],\n",
       "          [1., 0.],\n",
       "          [0., 1.],\n",
       "          [0., 1.],\n",
       "          [0., 1.],\n",
       "          [1., 0.],\n",
       "          [1., 0.],\n",
       "          [1., 0.],\n",
       "          [0., 1.],\n",
       "          [1., 0.],\n",
       "          [0., 1.],\n",
       "          [1., 0.],\n",
       "          [0., 1.],\n",
       "          [1., 0.],\n",
       "          [1., 0.],\n",
       "          [1., 0.],\n",
       "          [0., 1.],\n",
       "          [1., 0.],\n",
       "          [1., 0.],\n",
       "          [0., 1.],\n",
       "          [1., 0.],\n",
       "          [1., 0.],\n",
       "          [1., 0.],\n",
       "          [0., 1.],\n",
       "          [0., 1.],\n",
       "          [0., 1.],\n",
       "          [0., 1.],\n",
       "          [1., 0.],\n",
       "          [1., 0.],\n",
       "          [0., 1.],\n",
       "          [1., 0.]], dtype=torch.float64),\n",
       "  tensor([[-1.2421,  1.8498],\n",
       "          [-1.2188,  1.8107],\n",
       "          [-1.2245,  1.8232],\n",
       "          [-1.2461,  1.8607],\n",
       "          [-1.2055,  1.8843],\n",
       "          [-1.1873,  1.8174],\n",
       "          [-1.2030,  1.8608],\n",
       "          [-1.2311,  1.8816],\n",
       "          [-1.2418,  1.8745],\n",
       "          [-1.1935,  1.8586],\n",
       "          [-1.2247,  1.8433],\n",
       "          [-1.2062,  1.8607],\n",
       "          [-1.2285,  1.8690],\n",
       "          [-1.1945,  1.8186],\n",
       "          [-1.2354,  1.8748],\n",
       "          [-1.1783,  1.8128],\n",
       "          [-1.1797,  1.8371],\n",
       "          [-1.1598,  1.8606],\n",
       "          [-1.2190,  1.8365],\n",
       "          [-1.2176,  1.8096],\n",
       "          [-1.2112,  1.8466],\n",
       "          [-1.2041,  1.8344],\n",
       "          [-1.1901,  1.8466],\n",
       "          [-1.1940,  1.8370],\n",
       "          [-1.2294,  1.8767],\n",
       "          [-1.2141,  1.8569],\n",
       "          [-1.1950,  1.8530],\n",
       "          [-1.2211,  1.8431],\n",
       "          [-1.2068,  1.8529],\n",
       "          [-1.2328,  1.8877],\n",
       "          [-1.2128,  1.8241],\n",
       "          [-1.1963,  1.8427]], grad_fn=<ViewBackward0>)]]"
      ]
     },
     "execution_count": 17,
     "metadata": {},
     "output_type": "execute_result"
    }
   ],
   "source": [
    "results"
   ]
  },
  {
   "cell_type": "code",
   "execution_count": null,
   "metadata": {},
   "outputs": [],
   "source": []
  }
 ],
 "metadata": {
  "kernelspec": {
   "display_name": "Python 3.8.8 ('env': venv)",
   "language": "python",
   "name": "python3"
  },
  "language_info": {
   "codemirror_mode": {
    "name": "ipython",
    "version": 3
   },
   "file_extension": ".py",
   "mimetype": "text/x-python",
   "name": "python",
   "nbconvert_exporter": "python",
   "pygments_lexer": "ipython3",
   "version": "3.8.8"
  },
  "orig_nbformat": 4,
  "vscode": {
   "interpreter": {
    "hash": "52dfdb52af05ed8ca9c14e4bb1a5c208767ec70ca1bab18b877a8566669311bf"
   }
  }
 },
 "nbformat": 4,
 "nbformat_minor": 2
}
